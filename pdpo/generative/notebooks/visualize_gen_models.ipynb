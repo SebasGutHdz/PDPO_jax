{
 "cells": [
  {
   "cell_type": "code",
   "execution_count": null,
   "metadata": {},
   "outputs": [],
   "source": [
    "import os\n",
    "os.environ[\"CUDA_DEVICE_ORDER\"]=\"PCI_BUS_ID\"\n",
    "os.environ[\"CUDA_VISIBLE_DEVICES\"]=\"2\"\n",
    "os.environ['XLA_PYTHON_CLIENT_PREALLOCATE'] = 'false'\n",
    "\n",
    "from pathlib import Path\n",
    "root_path = Path.cwd().parent.parent.parent.absolute()\n",
    "import sys\n",
    "current_dir = Path.cwd()\n",
    "repo_root = current_dir.parent.parent.parent  # Go up 3 levels\n",
    "pdpo_path = str(repo_root.absolute())\n",
    "# Add repository root to path\n",
    "sys.path.insert(0, pdpo_path)\n",
    "\n",
    "\n"
   ]
  },
  {
   "cell_type": "code",
   "execution_count": null,
   "metadata": {},
   "outputs": [],
   "source": [
    "import jax\n",
    "import jax.numpy as jnp\n",
    "import jax.random as jrn\n",
    "from jax import jit, vmap\n",
    "import orbax.checkpoint as ocp # to load checkpoints\n",
    "import pickle\n",
    "from flax import nnx\n",
    "import optax\n",
    "import numpy as np\n",
    "import matplotlib.pyplot as plt\n",
    "import seaborn\n",
    "from typing import Dict, Tuple, Optional\n",
    "import time"
   ]
  },
  {
   "cell_type": "code",
   "execution_count": null,
   "metadata": {},
   "outputs": [],
   "source": [
    "# Set plot style\n",
    "plt.style.use('default')\n",
    "\n",
    "# JAX Configuration\n",
    "print(\"JAX version:\", jax.__version__)\n",
    "print(\"Available devices:\", jax.devices())\n",
    "\n",
    "device = jax.devices()[0]\n",
    "jax.default_device(device)\n",
    "\n",
    "\n"
   ]
  },
  {
   "cell_type": "code",
   "execution_count": null,
   "metadata": {},
   "outputs": [],
   "source": [
    "# Set random seed for reproducibility\n",
    "SEED = 1\n",
    "key = jrn.PRNGKey(SEED)\n",
    "print(f\"Random seed set to: {SEED}\")"
   ]
  },
  {
   "cell_type": "code",
   "execution_count": null,
   "metadata": {},
   "outputs": [],
   "source": [
    "from pdpo.generative.models.matching_methods import FlowMatching,StochasticInterpolant\n",
    "from pdpo.models.nn import create_mlp,get_activation_fn,create_mlp_time_embedding\n",
    "from pdpo.data.toy_datasets import inf_train_gen\n",
    "from pdpo.core.types import ModelParams, SampleArray, TimeArray\n",
    "from pdpo.ode.solvers import MidpointSolver,ODESolver\n",
    "from pdpo.core.types import (\n",
    "    ModelParams,\n",
    "    ModelState,\n",
    "    TimeArray,\n",
    "    SampleArray,\n",
    "    VelocityArray,\n",
    "    ScoreArray,\n",
    "    PRNGKeyArray\n",
    ")\n"
   ]
  },
  {
   "cell_type": "code",
   "execution_count": null,
   "metadata": {},
   "outputs": [],
   "source": [
    "name_exp = 'fm_std_gaussian_to_gaussian1_final'\n",
    "directory_file = pdpo_path+'/checkpoints/generative/'+name_exp+'.pkl'\n",
    "# Load the model parameters\n",
    "with open(directory_file, 'rb') as f:\n",
    "    model_params = pickle.load(f)"
   ]
  },
  {
   "cell_type": "code",
   "execution_count": null,
   "metadata": {},
   "outputs": [],
   "source": [
    "model_params.keys()"
   ]
  },
  {
   "cell_type": "code",
   "execution_count": null,
   "metadata": {},
   "outputs": [],
   "source": [
    "# Define the model\n",
    "\n",
    "vf = create_mlp(\n",
    "    input_size=model_params['model_config']['input_dim'],\n",
    "    num_layers=model_params['model_config']['num_layers'],\n",
    "    layer_width=model_params['model_config']['hidden_dim'],\n",
    "    activation=model_params['model_config']['activation'],\n",
    "    time_varying=model_params['model_config']['time_varying'],\n",
    "    key=key\n",
    ")\n",
    "\n",
    "# Initialize the model with the loaded parameters\n",
    "\n",
    "nnx.update(vf, model_params['model_state'])"
   ]
  },
  {
   "cell_type": "code",
   "execution_count": null,
   "metadata": {},
   "outputs": [],
   "source": [
    "ode_solver = MidpointSolver\n",
    "\n",
    "def eval_model(\n",
    "        model: nnx.Module,\n",
    "        t: TimeArray,\n",
    "        x: SampleArray\n",
    "    )-> VelocityArray:\n",
    "    \"\"\"\n",
    "    Evaluate the velocity field model with proper time conditioning.\n",
    "    \n",
    "    Args:\n",
    "        model: The neural network model\n",
    "        t: Time values, float or jnp.array shape (batch_size,) or (batch_size,1)\n",
    "        x: Sample positions, shape (batch_size, dim) \n",
    "        batch_size: Batch size for verification\n",
    "        \n",
    "    Returns:\n",
    "        Predicted velocities, shape (batch_size, dim)\n",
    "    \"\"\"\n",
    "    \n",
    "    if t.ndim ==0:  # element from jnp.array\n",
    "        t_expanded = jnp.full((x.shape[0], 1), t)\n",
    "    elif t.ndim == 1: # Batch of times with format (bs,)\n",
    "        t_expanded = t.reshape(-1, 1)\n",
    "    elif  t.ndim == 2 : # Batch of times with correct format\n",
    "        t_expanded = t\n",
    "    else:\n",
    "        raise ValueError(\"t does not have the right shape, valid float of jnp with shapes (bs,) and (bs,1)\")\n",
    "\n",
    "    \n",
    "    model_input = jnp.concatenate([t_expanded,x], axis=-1)\n",
    "    v_pred = model(model_input)\n",
    "    return v_pred\n",
    "\n",
    "def sample_trajectory(\n",
    "        vf: nnx.Module,\n",
    "        x0: SampleArray,\n",
    "        ode_solver:ODESolver = MidpointSolver,\n",
    "        n_steps: int = 10        \n",
    "):\n",
    "    \"\"\"\n",
    "    Sample a trajectory using the ODE solver with the velocity field model.\n",
    "    \"\"\"\n",
    "    t = jnp.linspace(0, 1, n_steps)\n",
    "    x = x0\n",
    "    dt = 1.0 / (n_steps - 1)\n",
    "    eval_model_ = lambda t,x: eval_model(vf,t,x)\n",
    "    for i in range(n_steps - 1):\n",
    "        x = ode_solver.step(\n",
    "            f = eval_model_,\n",
    "            t = t[i], \n",
    "            x = x, \n",
    "            dt = dt)\n",
    "    return x\n",
    "\n"
   ]
  },
  {
   "cell_type": "code",
   "execution_count": null,
   "metadata": {},
   "outputs": [],
   "source": [
    "# Sample from vector field\n",
    "key,key_sample = jrn.split(key)\n",
    "sample_size = 1000\n",
    "\n",
    "source_data = inf_train_gen(\n",
    "    data_type=model_params['data_config']['source_type'],\n",
    "    key=key_sample,\n",
    "    batch_size=sample_size,\n",
    "    dim=model_params['data_config']['dim'])\n",
    "\n",
    "key, key_sample = jrn.split(key)\n",
    "\n",
    "target_data = inf_train_gen(\n",
    "    data_type=model_params['data_config']['target_type'],\n",
    "    key=key_sample,\n",
    "    batch_size=sample_size,\n",
    "    dim=model_params['data_config']['dim'])\n"
   ]
  },
  {
   "cell_type": "code",
   "execution_count": null,
   "metadata": {},
   "outputs": [],
   "source": [
    "# generate data from the model\n",
    "\n",
    "generated_samples = sample_trajectory(\n",
    "    vf = vf,\n",
    "    x0 = source_data,\n",
    "    ode_solver = ode_solver,\n",
    "    n_steps = 10\n",
    ")"
   ]
  },
  {
   "cell_type": "code",
   "execution_count": null,
   "metadata": {},
   "outputs": [],
   "source": [
    "plt.scatter(source_data[:, 0], source_data[:, 1], s=1, alpha=0.5,label='Source Data')\n",
    "plt.scatter(generated_samples[:, 0], generated_samples[:, 1], s=1, alpha=0.5,label='Generated Samples')\n",
    "plt.scatter(target_data[:, 0], target_data[:, 1], s=1, alpha=0.5,label='Target Data')\n",
    "plt.legend()\n",
    "plt.title('Generated Samples from Vector Field')\n",
    "plt.xlabel('Dimension 1')\n",
    "plt.ylabel('Dimension 2')\n",
    "plt.show()"
   ]
  },
  {
   "cell_type": "code",
   "execution_count": null,
   "metadata": {},
   "outputs": [],
   "source": []
  }
 ],
 "metadata": {
  "kernelspec": {
   "display_name": "PDPO_jax",
   "language": "python",
   "name": "python3"
  },
  "language_info": {
   "codemirror_mode": {
    "name": "ipython",
    "version": 3
   },
   "file_extension": ".py",
   "mimetype": "text/x-python",
   "name": "python",
   "nbconvert_exporter": "python",
   "pygments_lexer": "ipython3",
   "version": "3.13.5"
  }
 },
 "nbformat": 4,
 "nbformat_minor": 2
}
