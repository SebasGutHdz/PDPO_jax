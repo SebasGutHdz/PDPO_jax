{
 "cells": [
  {
   "cell_type": "code",
   "execution_count": null,
   "metadata": {},
   "outputs": [],
   "source": [
    "import os\n",
    "os.environ[\"CUDA_DEVICE_ORDER\"]=\"PCI_BUS_ID\"\n",
    "os.environ[\"CUDA_VISIBLE_DEVICES\"]=\"2\"\n",
    "os.environ['XLA_PYTHON_CLIENT_PREALLOCATE'] = 'false'\n",
    "\n",
    "from pathlib import Path\n",
    "root_path = Path.cwd().parent.parent.parent.absolute()\n",
    "import sys\n",
    "current_dir = Path.cwd()\n",
    "repo_root = current_dir.parent.parent.parent  # Go up 3 levels\n",
    "pdpo_path = str(repo_root.absolute())\n",
    "# Add repository root to path\n",
    "sys.path.insert(0, pdpo_path)\n",
    "\n",
    "\n"
   ]
  },
  {
   "cell_type": "code",
   "execution_count": 1,
   "metadata": {},
   "outputs": [],
   "source": [
    "import jax\n",
    "import jax.numpy as jnp\n",
    "import jax.random as jrn\n",
    "from jax import jit, vmap\n",
    "from flax import nnx\n",
    "import optax\n",
    "import numpy as np\n",
    "import matplotlib.pyplot as plt\n",
    "import seaborn\n",
    "from typing import Dict, Tuple, Optional\n",
    "import time"
   ]
  },
  {
   "cell_type": "code",
   "execution_count": 2,
   "metadata": {},
   "outputs": [
    {
     "name": "stdout",
     "output_type": "stream",
     "text": [
      "JAX version: 0.7.0\n",
      "Available devices: [CudaDevice(id=0), CudaDevice(id=1), CudaDevice(id=2), CudaDevice(id=3)]\n"
     ]
    },
    {
     "data": {
      "text/plain": [
       "<jax._src.config.StateContextManager at 0x7e93d057d630>"
      ]
     },
     "execution_count": 2,
     "metadata": {},
     "output_type": "execute_result"
    }
   ],
   "source": [
    "# Set plot style\n",
    "plt.style.use('default')\n",
    "\n",
    "# JAX Configuration\n",
    "print(\"JAX version:\", jax.__version__)\n",
    "print(\"Available devices:\", jax.devices())\n",
    "\n",
    "device = jax.devices()[0]\n",
    "jax.default_device(device)\n",
    "\n",
    "\n"
   ]
  },
  {
   "cell_type": "code",
   "execution_count": null,
   "metadata": {},
   "outputs": [],
   "source": [
    "# Set random seed for reproducibility\n",
    "SEED = 1\n",
    "key = jrn.PRNGKey(SEED)\n",
    "print(f\"Random seed set to: {SEED}\")"
   ]
  }
 ],
 "metadata": {
  "language_info": {
   "name": "python"
  }
 },
 "nbformat": 4,
 "nbformat_minor": 2
}
