{
 "cells": [
  {
   "cell_type": "code",
   "execution_count": 1,
   "id": "f40237ed",
   "metadata": {},
   "outputs": [
    {
     "name": "stdout",
     "output_type": "stream",
     "text": [
      "Current directory: /work2/Sebas/PDPO_jax/pdpo/generative/notebooks\n",
      "Repository root: /work2/Sebas/PDPO_jax\n",
      "✓ Added to path: /work2/Sebas/PDPO_jax\n"
     ]
    }
   ],
   "source": [
    "from pathlib import Path\n",
    "root_path = Path.cwd().parent.parent.parent.absolute()\n",
    "import sys\n",
    "current_dir = Path.cwd()\n",
    "repo_root = current_dir.parent.parent.parent  # Go up 3 levels\n",
    "pdpo_path = str(repo_root.absolute())\n",
    "\n",
    "print(f\"Current directory: {current_dir}\")\n",
    "print(f\"Repository root: {repo_root}\")\n",
    "\n",
    "# Add repository root to path\n",
    "sys.path.insert(0, pdpo_path)\n",
    "print(f\"✓ Added to path: {pdpo_path}\")"
   ]
  },
  {
   "cell_type": "code",
   "execution_count": 2,
   "id": "8429ddc0",
   "metadata": {},
   "outputs": [],
   "source": [
    "import jax\n",
    "import jax.numpy as jnp\n",
    "from jax import random, jit, vmap\n",
    "from flax import nnx\n",
    "import optax\n",
    "import numpy as np\n",
    "import matplotlib.pyplot as plt\n",
    "import seaborn\n",
    "from typing import Dict, Tuple, Optional\n",
    "import time"
   ]
  },
  {
   "cell_type": "code",
   "execution_count": 3,
   "id": "9d95784a",
   "metadata": {},
   "outputs": [
    {
     "name": "stdout",
     "output_type": "stream",
     "text": [
      "JAX version: 0.7.0\n",
      "Available devices: [CudaDevice(id=0), CudaDevice(id=1), CudaDevice(id=2), CudaDevice(id=3)]\n"
     ]
    }
   ],
   "source": [
    "# Set plot style\n",
    "plt.style.use('default')\n",
    "\n",
    "# JAX Configuration\n",
    "print(\"JAX version:\", jax.__version__)\n",
    "print(\"Available devices:\", jax.devices())\n",
    "\n",
    "device = jax.devices()[0]"
   ]
  },
  {
   "cell_type": "code",
   "execution_count": 4,
   "id": "c9ce99f7",
   "metadata": {},
   "outputs": [
    {
     "name": "stdout",
     "output_type": "stream",
     "text": [
      "Random seed set to: 1\n"
     ]
    }
   ],
   "source": [
    "# Set random seed for reproducibility\n",
    "SEED = 1\n",
    "key = random.PRNGKey(SEED)\n",
    "print(f\"Random seed set to: {SEED}\")"
   ]
  },
  {
   "cell_type": "code",
   "execution_count": 5,
   "id": "9d88ab9e",
   "metadata": {},
   "outputs": [],
   "source": [
    "from pdpo.generative.models.matching_methods import FlowMatching\n",
    "from pdpo.models.nn import create_mlp,get_activation_fn\n",
    "from pdpo.data.toy_datasets import inf_train_gen\n",
    "from pdpo.core.types import ModelParams, SampleArray, TimeArray\n",
    "from pdpo.ode.solvers import MidpointSolver"
   ]
  },
  {
   "cell_type": "code",
   "execution_count": 6,
   "id": "7fe2b14c",
   "metadata": {},
   "outputs": [],
   "source": [
    "# Test configuration\n",
    "CONFIG = {\n",
    "    'model': {\n",
    "        'input_dim': 2,\n",
    "        'hidden_dim': 64,\n",
    "        'num_layers': 4,\n",
    "        'activation': 'relu',\n",
    "        'time_varying': True\n",
    "    },\n",
    "    'training': {\n",
    "        'batch_size': 1000,\n",
    "        'learning_rate': 1e-3,\n",
    "        'num_epochs': 200,\n",
    "        'print_every': 50\n",
    "    },\n",
    "    'data': {\n",
    "        'source': 'std_gaussian',\n",
    "        'target': '8gaussians',\n",
    "        'dim': 2\n",
    "    }\n",
    "}"
   ]
  },
  {
   "cell_type": "code",
   "execution_count": 7,
   "id": "86556604",
   "metadata": {},
   "outputs": [
    {
     "name": "stdout",
     "output_type": "stream",
     "text": [
      "Configuration loaded:\n",
      "  model: {'input_dim': 2, 'hidden_dim': 64, 'num_layers': 4, 'activation': 'relu', 'time_varying': True}\n",
      "  training: {'batch_size': 1000, 'learning_rate': 0.001, 'num_epochs': 200, 'print_every': 50}\n",
      "  data: {'source': 'std_gaussian', 'target': '8gaussians', 'dim': 2}\n",
      "\n",
      "==================================================\n",
      "SETUP COMPLETE - Ready for Flow Matching tests\n",
      "==================================================\n"
     ]
    }
   ],
   "source": [
    "print(\"Configuration loaded:\")\n",
    "for section, params in CONFIG.items():\n",
    "    print(f\"  {section}: {params}\")\n",
    "\n",
    "print(\"\\n\" + \"=\"*50)\n",
    "print(\"SETUP COMPLETE - Ready for Flow Matching tests\")\n",
    "print(\"=\"*50)"
   ]
  },
  {
   "cell_type": "code",
   "execution_count": 8,
   "id": "c779a6ed",
   "metadata": {},
   "outputs": [
    {
     "data": {
      "text/plain": [
       "<jax._src.custom_derivatives.custom_jvp at 0x7bb3f577fa70>"
      ]
     },
     "execution_count": 8,
     "metadata": {},
     "output_type": "execute_result"
    }
   ],
   "source": [
    "get_activation_fn('relu')"
   ]
  },
  {
   "cell_type": "code",
   "execution_count": 9,
   "id": "6a6aea34",
   "metadata": {},
   "outputs": [
    {
     "name": "stdout",
     "output_type": "stream",
     "text": [
      "MLP Architecture: [2, 4, 64, 'relu', True]\n",
      "  - Input dimension: 2\n",
      "  - Hidden width: 4\n",
      "  - Number of layers: 64\n",
      "  - Activation: relu\n"
     ]
    }
   ],
   "source": [
    "architecture = [\n",
    "    CONFIG['model']['input_dim'],      # 2 - input dimension  \n",
    "    CONFIG['model']['num_layers'],     # 4 - number of layers\n",
    "    CONFIG['model']['hidden_dim'],     # 64 - hidden layer width\n",
    "    CONFIG['model']['activation'],      # 'relu' - activation function\n",
    "    CONFIG['model']['time_varying']\n",
    "]\n",
    "\n",
    "print(f\"MLP Architecture: {architecture}\")\n",
    "print(f\"  - Input dimension: {architecture[0]}\")\n",
    "print(f\"  - Hidden width: {architecture[1]}\")  \n",
    "print(f\"  - Number of layers: {architecture[2]}\")\n",
    "print(f\"  - Activation: {architecture[3]}\")"
   ]
  },
  {
   "cell_type": "code",
   "execution_count": 10,
   "id": "d7886f4e",
   "metadata": {},
   "outputs": [
    {
     "name": "stderr",
     "output_type": "stream",
     "text": [
      "/work2/Sebas/miniconda3/envs/PDPO_jax/lib/python3.13/site-packages/treescope/renderers.py:251: UserWarning: Ignoring error inside wrapper hook <function use_autovisualizer_if_present at 0x7bb3e70ffd80>:\n",
      "Traceback (most recent call last):\n",
      "  File \"/work2/Sebas/miniconda3/envs/PDPO_jax/lib/python3.13/site-packages/treescope/renderers.py\", line 225, in _render_subtree\n",
      "    postprocessed_result = hook(\n",
      "        node=node, path=path, node_renderer=render_without_this_hook\n",
      "    )\n",
      "  File \"/work2/Sebas/miniconda3/envs/PDPO_jax/lib/python3.13/site-packages/treescope/_internal/handlers/autovisualizer_hook.py\", line 47, in use_autovisualizer_if_present\n",
      "    result = autoviz(node, path)\n",
      "  File \"/work2/Sebas/miniconda3/envs/PDPO_jax/lib/python3.13/site-packages/treescope/_internal/api/array_autovisualizer.py\", line 306, in __call__\n",
      "    jax.sharding.PositionalSharding\n",
      "  File \"/work2/Sebas/miniconda3/envs/PDPO_jax/lib/python3.13/site-packages/jax/_src/deprecations.py\", line 54, in getattr\n",
      "    raise AttributeError(message)\n",
      "AttributeError: jax.sharding.PositionalSharding was deprecated in JAX v0.6.0 and removed in JAX v0.7.0\n",
      "\n",
      "  warnings.warn(\n"
     ]
    },
    {
     "data": {
      "text/html": [
       "<script> (()=>{ if (customElements.get('treescope-container') === undefined) { class TreescopeContainer extends HTMLElement { constructor() { super(); this.attachShadow({mode: \"open\"}); this.defns = {}; this.state = {}; } } customElements.define(\"treescope-container\", TreescopeContainer); } if (customElements.get('treescope-run-here') === undefined) { class RunHere extends HTMLElement { constructor() { super() } connectedCallback() { const run = child => { const fn = new Function(child.textContent); child.textContent = \"\"; fn.call(this); this.remove(); }; const child = this.querySelector(\"script\"); if (child) { run(child); } else { new MutationObserver(()=>{ run(this.querySelector(\"script\")); }).observe(this, {childList: true}); } } } customElements.define(\"treescope-run-here\", RunHere); } })(); </script> <treescope-container class=\"treescope_out_4a37361fde1f4fa3adc23627b38d60fe\" style=\"display:block\"></treescope-container> <treescope-run-here><script type=\"application/octet-stream\"> const root = ( Array.from(document.getElementsByClassName( \"treescope_out_4a37361fde1f4fa3adc23627b38d60fe\")) .filter((elt) => !elt.dataset.setup) )[0]; root.dataset.setup = 1; const msg = document.createElement(\"span\"); msg.style = \"color: #cccccc; font-family: monospace;\"; msg.textContent = \"(Loading...)\"; root.state.loadingMsg = msg; root.shadowRoot.appendChild(msg); root.state.chain = new Promise((resolve, reject) => { const observer = new IntersectionObserver((entries) => { for (const entry of entries) { if (entry.isIntersecting) { resolve(); observer.disconnect(); return; } } }, {rootMargin: \"1000px\"}); window.setTimeout(() => { observer.observe(root); }, 0); }); root.state.deferring = false; const _insertNode = (node) => { for (let oldScript of node.querySelectorAll(\"script\")) { let newScript = document.createElement(\"script\"); newScript.type = oldScript.type; newScript.textContent = oldScript.textContent; oldScript.parentNode.replaceChild(newScript, oldScript); } if (root.state.loadingMsg) { root.state.loadingMsg.remove(); root.state.loadingMsg = null; } root.shadowRoot.appendChild(node); }; root.defns.insertContent = ((contentNode, compressed) => { if (compressed) { root.state.deferring = true; } if (root.state.deferring) { root.state.chain = (async () => { await root.state.chain; if (compressed) { const encoded = contentNode.textContent; const blob = new Blob([ Uint8Array.from(atob(encoded), (m) => m.codePointAt(0)) ]); const reader = blob.stream().pipeThrough( new DecompressionStream(\"deflate\") ).pipeThrough( new TextDecoderStream(\"utf-8\") ).getReader(); const parts = []; while (true) { const step = await reader.read(); if (step.done) { break; } parts.push(step.value); } const tpl = document.createElement('template'); tpl.innerHTML = parts.join(\"\"); _insertNode(tpl.content); } else { _insertNode(contentNode.content); } })(); } else { _insertNode(contentNode.content); } }); </script></treescope-run-here><div style=\"display:none\"> <script type=\"application/octet-stream\" >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</script> <treescope-run-here><script type=\"application/octet-stream\"> const root = ( Array.from(document.getElementsByClassName( \"treescope_out_4a37361fde1f4fa3adc23627b38d60fe\")) .filter((elt) => !elt.dataset['step0']) )[0]; root.dataset['step0'] = 1; root.defns.insertContent( this.parentNode.querySelector('script[type=\"application/octet-stream\"]'), true ); this.parentNode.remove(); </script></treescope-run-here> </div>"
      ],
      "text/plain": [
       "<IPython.core.display.HTML object>"
      ]
     },
     "metadata": {},
     "output_type": "display_data"
    },
    {
     "data": {
      "text/html": [
       "<div style=\"display:none\"> <script type=\"application/octet-stream\" >eNrtfeta28iy6P88hRZr1tgeg637JSSsj0DuJHEC5MZmM7IkY4FtGUk2mGz277Pf45wHOK9wHmU/yanqbt1asg0kM7P2jJkMSOrq6uqq6qrq+yPXnwpRPBt4j9dcPxoP7NlDYRSMvDXBdx+v9YLwxPV6Xhh67onYdT3NtXtuVzRV23W6munanm50JVMVHa23tvUoGtsj+I34tlp2GNqzqX994gSj2PZHXih8Ey77fuxtAJzjYUHh0B5sCjdCFXDLH/UCyNKDLxs9e+gPgLZhMApI7k3BCQZB+FD4u01+NoWhHZ76o41uEMfB8KEgtmTNG24WSxyH3uLi/NF4Eh/FszEwJLRHp97aMZAw9cLYd+zBhj3wT0dAhe+6A8DU8wexBzScArYI0r261BACKMqPZ3WxpTXuXNjDfjAljCqjvhu+0WTY9UJAOAri+sNe4EyiBqDtBqHrhRuh7fqT6KGgjK++DyV9JkQj+kQmBvnZZMU9FKTxlRAFA9/NkhaU2ooA0gsjXl8WSY+QEPtjyFNQ5E1hHER+7AcgNrsLNExi+Na1nfPTMJiM3A1GMimoiuDuAGABi+26/uiU6pXTR7T+CCS04U29URwlhV36btx/CNKLN5A4SNoUkLLeILh8KEz9yO+i4pSrdb3hj1zvCkoWRXFxLbvB1S1rGVxtRH3bxaJF8h9Wi1RonX2Q4QOrenWFUrqsBWQ5A985d+3YvovEBoGNHD0ZelFkn3o57Ula9M2jNrUlj+LQ8yInGHsb4WS00fdC+BY5oT+OBaKbNXs8Bhps5EA7cGIv3oggjz2sbT3AHyg2ioWECuGxUK83hMdbwrcHggD/epORg1kF14u80IdWfu0dAjfMOjYaABCE0Isn4UggX7cRT6sXBsO6HQddAFoX6kOCcNhyAtfrICu347rYaGxC7psH84t5BmyIFTkriJLancVeBHTeq7wESQ9xI5aRdymwggiuOkHf6k56YNtZFlZBmmcZ1S9HvwvNpJg7UUxJHnixsIPKNLTHH54/2QXN3ORrc+rFO6CM/mgSTCICXJ/ag4m3TtUQcmK2pIaIsWtH3glpDetC0OtFXkzp8HsCzSo8eiyISQ4hBw/VETfZV5oz+3IjeIPIyyHZeixIc5DkKWsNvNFp3Bc2BLmEWmoVkSfIKIudOEox0iJ/EerVqKXGZhUdb+y43wK+A89SZI0SFVk5/xAkRk9O0iFXoaOsiOMj8RiJkoAEiq4hNBl6YV4moSlILGNeOrSw00WFSfctTKourLuoMPm+hcl8YUz/j8J14XRd6B5XN9rZCEInZzt0In/U/+AB9jor79ybEZv/kan9wB+/sUG3Q/vyjT+if/GdoXhujxO1TLFHsQ3+bB/jE5cVUYccsT3JNBg1+29+9MwfgWOok6T/+A+qQuCq6lcNoY0ZhEeC5G2oWb60gleJZnHanAIQXBFEZojsF4LslxQGfwjAIDitl0ttstwXYQxCYW/j4LJ+RQHWBbnRSHX7JqfFadsv8FF4XLABmE75ySVw7EeNofyfW1kenqKtooyHTGtdSEisKJFyAjW0r+qJ3BlBjc05NX2UQqRU/kF/aLMDaWGbER4/4CTvXY3rqQoUeQDNMFNv0J0ULKlaKvq0DGBVUlKbNuQiW9oc46jzAMaCrYW8VU0mbXrYOjZzqpPk4lQnRQYtRhKLKpCaV2zqYw+tLGo7+N1FjbXNcCa4WMtKkFR6k++WVqb0CSez1ypV5REhX11vFAz9EcQYYarD/qieU4GqanOmj7GAkJCzdutLsCQNBbMXxFYgipNdkeBKATLm30psOXSZiy15gTjYx0B6Pw4h4qa+vhi7pU4kcV0FF/NreNqt//QtvBF++naKv7o3jV8r3Q3G96EdQVh1er8ScxDYHRlBr2YGEC1ZknVonyGY6JYhaTI8n+KzaMj43M2MVJZtS5BkM+M9q0yNdIBqlSqdgJBOTK3AUK6i0D8fdOwYOkwjiIFAHvBvtg7dRPIpdZQg5DqqqU8CPvjzKAFhQRZ8azYbXIQWBpcAzwCP/ONEQVJ0ZxTdGaAD2BTVWR4Vcz7B5dHZcf4rFBJftZD+D54T1zG6OAPa4Y+/LkjruZgv08ibkmpRQl3/1I9J8NwJ/aEdoqiOCGzt7z3yU1uHR6lnGF2VPPZ6Rk/0yKPs2KLskEdXlw3ZJI+Wqhtdlzyajqar3do6Q+gphuHIJKXrdF2ZPkpG13N6NYAhbOLp2vfgi1ukzOjhfyS37TmGZzLKul2D0WC6PdNmXy3T0smjo3VFV6OPquVYakpZz+jqLiXH7bpdk5Jvea7taSllD1LqHG8w2IdeFJBkbNIErtMCPZOef1rqs7hgcd6NvB3In1g4onsgZNJtWRdYF8aPwLL5btaXoQjXU4OeKAQLzgh0TguZgpAmDFTWgvOB069r2j9w0KBR23xQoUhQFDREg1BDH/BfY3MxTkPkcJYaFsOLQXCKm74cpXp6JK4L2b/j9UKCRL5K5YQfkuO4UerHFZnewhEKcANQZSftcNb4Ju+wsL8QvZRQJVAFb+NHb+23tPPYyDf0Esfzhu+u4qtAh05B1jTCD/jbyGG+lxCBxVKOxdJx3v/OFUsqGKkkysW55pV13OBC8KxrDjJ8CXKAjsyswGgqQRQV8KViYAH64+tCSXZllla56R8lroWe+fslR1ks3V0890uqLGux5DbuJTrxLyG6jKNVQpjXfBa3x8VNVVrS6HgRMcflYseX+TBm8jaL8U4Ct4WjYFzcc992eldx31Xg9xb5vYW+sIEtS5Ry7U+6U875icf5qDNrvak4HwnincUp/vXEKS7iu3hvcd4ZbYU486LLwpZEwI2ibNM+/t1jj8oCSygKafhTVIEKbUoozalUQXQ399YXrpe1LJAUamMbOgsxGx2ulYbfviuiLLaqJPmI2NrjfNjJQICeCZABrtVzV9Hnj48+eUc4Z9ykikfpsM06GbdZzw3c3F0Et1ZO0vfuBnP1EjuxHTuMoyezXQRNO+aEL/kOF/LPOC5/AbHJ64JSnQKM1ZZC6AxCxb8KKNBSSI1BkhzqfXIo+Ff7vpzwV0d9yXqf+TFmfzTFfjwwtGeDlPKNlUbB/xAk4W/ceGQWPaW543DiLdHCkXdqx/7US6cQH2UznAnM0D6FcHviFqYg+JgtN16Ds75pnhbaY2KKG61oPPDjeq3GhXo0UzJZ+aikWCylKmhA0JMxwkKZfL6jAuLjvI1HLo9DskLiJPTGnh1HJ0EPZ6sng0HBj1cM/BXQbgrNps/7PNbCoxioWRci3/UYDYxKSnJuQLDEQwB8S5bpMO4AbKMInHKOmO5yZXiaymalYnCNsowjS7gdq+b460XlssHGu5RKQLliK+MDYgtL0UHmQZhwMi9Sklb+eW6EwAVDSXtqLI5ayl60FCrNc345u37EVe+oOvbLOnmVCRUB4fGc6lYIOF//SsOTD4vyg10UeBVp/MhIo3KtyK3ZcHv2zplKwTCCTsVtj9yXI9d3vKjOj2T79Ds+RKAnJCu3ACkx6EfMJBAjnMwlQSYBLEFV7kSzIOWohnFM7ZhEMuB1vNAe1PLKRspojSdRP8lACK1Vjj2VUfIRe0J6umiGVfOIZbWv/Kh2fFx0fAnwY4FBRef++ITYoRo31ZMj99efvlWA3zwsfvZGLnz8tbo3zgp+dNdyab4qrMvyCBtVZeHKJJyvWkz3beRBhcdPmpUmRMrkkYx3qFGtPrSjc88VgkncqN2LzJNBEJxPxiVqk/kb4eefhb+xvP7pKAixg0is5QLpzKerXB2qqtGkG8UQo5G2m6ogpe2EzFXXjrnuYkJpMeu8nmOJwsnofBRcjgrkzYkacvnyhc3zS7fhPTbBKtZjdFfdbFuYpbrNbi1vOinO+7SAsl7dSWy0SI7020ptqcwWt5A58rqZ1xHJF/fon1s1rlMRDLyWF4ZBWK8dUlrytr/G/Ejlyi62CoAWcBb4o6TvUVhgug1C3h97TmmW9gSCP3t2OIr9wUe64Lvuejj2R5Ynrws2AUt4l/NfZHm4D15n9q4beeGULN5h62C9MPJIviSpXocYN/S9KF3InMiLfT8Sj1t+LuMHLB4UUCx7H7YU+40dnuOy+8dCjt7WxcQLZ/sQzzpxEG4PBvUav3Q7z3pauXp+WiLpCnkDbDBcYUUVApBW6A2DqVdvVKlymUMt14+gEiOMPXhhrgvfbtK1wlCNKN4eQccBCXwW2kMvtwh8DvKAPuTll4Qy1Su7uxN/4G6zdebP/NNJyAnfIaMlSa2XqUqRwJPbYi+SmFfNO9KXBE+9gA5i40APvuVXu5JV9U/syNPVDCj3sQS7S4eKCqDkWx6S+K034Jp4zFxCPg/uQMBBA5csQ2fwuY952Kuk+eZAs295yFkF5KwSMhqAD3ArwLmEfJ7iKFqWxeFWguSiXP8KLGHHC3EZSJah8Jnj5MR7RmJsnH94mQuAC1ydB7T5ILNT2IyJvLLlVnmRgrfs0W0GOU9JAKhN4Tc95LSkvIqCQ+yPlqKluxLmIk1yxn3sm6BdfUr9w2QUTcbjIIwhDHKJ52+Ul6sTvTvBYKlYKN0nwmllI8+0lHPBADu5bCk8fnAmYQjWuvgx8sakEyPmezHcUFK6VjdT2VYy+DDjPzW4NWZYAPWbrPxs7D+lB0ltJu/pyn5Cf+HjDV/PYo3jILYHO8Eg4uodDD7hRilST+k4S6DVAa6WunEcA0r1rlxHFwEA5MmAc0NnbBwTV+RCSguiJ4ipyCMJsRKwjCLKsiw0ydcte/4FUDYJi6EsXOk/KmyjSGtOsaX5CgqXcu5DcMlxDjT3heef9uMS62a3Zd3sLqybfQfrZotZxyqXPS9hXVb1HO8wY2OOKjKX4+C42j5a4HckusVCv93M5w9nrG/BJC5HjlPlwo8In0YQfRzn9gA94Kl2bOi5Rfmpu7obOJMhNLyWE3p27D0dePhWr1HQWrqNiry2yEZEXPudqWZTkHF7RLL6sADeJ5xN4Yk8quFzTN0heXGe1LuKC7QyrGwWFVLrNdklJFYYCbbimuxNec0WZhfGibMxewg/0b2hCIuhUW4WJPGcH7IF8Pkh50VTV5Xr8yqzMJqL0Stb5w8FluCHue0AucX9pdXhbHU/vzK8NL9M18SQHSDb3aiqxDSxuDAhzWhfLchIEksEVwvqMeVveS6jJAa2oJ0sOUaG4JJ7XLzNM6d6/p4FkGQB/JsE5YLtTdlPFd3rWOp6xsL1jCnrgtiStMbmbatToAk/NnEDXzvbl7d0MJzNl+EmoQrV8UcVIryLntHNR8P8Rp1llRJb2i0kskDCG1gdImGklL4tGYR5ULG7A4L3l/wOytywLjHA0KfkLHBhv0WKovk430PIG+JfFhvqTZ5C1oXI/EkuHEENpLZJ5NZUzDL42WJ4ZsYy1y/gtuqBB9Y5xE1L33LzJywqoLDp17nghcdcBwHyk8D5KOXXcVnpkoHGx4VomBkA4Z9k/kZ4KPztb1nyHHwVK9nzIwicb7nDCvcHpXm7go4WdLD6kQZT7tQeOd5OMBnFed27b1DFIqJEtyC+aeaEmwY4+DWLcwhYEhAVYedqdSFgK6pvZhHydGw9zgVqOF1cmoflXou8KVejWE2Od0XaN5bSDk2zQB2PC3kGWOpzmNZYnH/OxDP32oV463z+1PENZ2453XmcsqNyPQJXWqmsvN8QHpRXbRTswNV8tb1PJ4r0fxaoLJqo5uOsTzNXX+dq69VibUV2XhV19WqRrhZerpbo6dUiLZ2ro1eVOno1X8eQSaih1VxqLMpcqZ63VpdC+HrFK+XVIqV8MLeEec66+KfChLcG/sj7xDol0uYCwCgOg3NvzmT+PMw79hiBo4uJHXpLoV8FJNSqDXGCt/abutgHCx0bq2zVmhM6kZ5uFdvAkGy9wvotg0lTf8nroHQs/POfGKbi2oQFOXJ2dV6WeS61yo9Kc/2otPKjKz+6wI9u/Tg/+uB2zlOa4zyllfP8SzvPrR/gPMnv/GBYdqKKFxfGKeoj7zJ5Lq5XyiWgQ68a5GiwqeyEhHkjbRmmO46S4ZKT5SNj+ZG70iQtPyKYcoIuTejgtBaedzCbt82B9JNzJxKRwQcyAJM4MjzlQ9qs2GGfzzWbk6vIEFznjMfXYH72iF+38g05G+PPzlE6BsgHRXO7VXBRudHtXK6K03DyY5mLo7Bk41w0GcS5Me8fNrKSTA5TJNn4PzTQWw2nCIy24pA4wbd5x+GbQqab4igKajums/OmSmcp+MXxm4z7aOe3aGdpY6Nc8UWTSykMIVZYbubZoF7gTgaTqAhPTn9K85C3fD6+ftnrPxJ8m6XtrkHocsd45TO2Gd2lZfrZOWSIoFkx55M0FExn7YNm2somi4rmskKt8/b3t1cRaHl5FsJrpYrM7q8is1upyNJ4ldeRfIaFSlKu4f2UpJDxr6MkyTlr/PjoulA5zLnOyMkGLY8XTlBmR2LieH7unKBsCRYOXY7cHehwunOnAV1/WmsUz1L0RwRrbl6On1GhBd8dP8FcyEZn/JIJvgw1OcAznY2s5Q5GrW1WgqYzkbeAxaOBn5GTgUlvPjkbeA50HNqjCBebvwv9UzoAEAdjsAG9efjBcXXCYOyF8axe84f2qbcReqj9/ugUj3gha26ASW6tcQsEGxvJAaQb10EwRATSLTPiaWMb5CDkCCITklMdX9USdlNxFFn9q2MPnPrUDutcuRg1//QtP018M75KdgXmMaWSuB0qCj4HV3I8LdlIgDyD8KCWKAvNf2sh5cELfCLnJCNzqkitlSefeaazM373oKy01j99Kxn+G3KAY0vzhmhnob5JhefgOwjGOXRXt0JXWsUwGOzZXW+QX9zBZpXI9w639YH5Fpx/H0K7IDBkSI1MnQ/wtTB/Tr4kGoSHX+1jQ0Luj3PjaXkoelLyE3LaNsKJLQlqkDszuTIX6jA9+ihnimqENXhsm0SmZetiS0fjWhZiAzWOJhSbRCPZjnLz268ZIvXhdlUvtppVnMi3iOTI5kqWDfLqOL8Rsl5Lrv3x8mKSoogkUfwH6NtP33zUP6J+1fmYPcnVdhklfOiajVBWEIejoDvUyCedCJJQRQrCbuMJ7MiznEUQKhWdaXnaoy25rGJ62sLo6qJ84s1vvpbqd1apgtUMgxjQo9ncsETXO61V4q6wy0yjQjT7lcWEBf9xa42r0tQN4f6af2cNLgfWC1W4QjmLPLmFdj4oRtCgqnv3Voks+9LWlQO9hQqVoLuZ9Z8PlGjBIhiw/cncUA3lPR+yoLqpUm4ERCtRiQtayalyvvVnmO9rIiow5JwxhflGgB7m6rGOO63wE8F905i3ApAMvDwJrrxofgT/XX2ErICWM7CjaM+P4hZELBDpjnoBspJdw5BGTncZHmJg9JTDhctEWS+IrireZ0Rxis/NJORIv0218VqSWu4UZ64shqP+67+NfvqWtZGbo1+5BTx4AUaJtHmFkpszcq2SZmajqEKNXqZR41KTpThlLjEAukZsfrJ9VWS3xAFEsTfOz21Us4Kyk2ZZxrXasVDj+ET15p58oplTPpF7UWpc4nw2MYB5bEqS57KJAfBsSj+Xe1gYr6qi08fTVSLmIDIPsYi/FGmZdw4OnELKDtgbvKiEXFfhTeNCwF7iBQC0oKqnXkw/ZUMfnG7NB3xQnKmev2yZHTHBYyo079y40Jzxf17kYHue4sENaIg8MJeJbqxXMYVvV/fJXDa6OIozAAw/0OQyjJn9Sb60yEK6Whp/DOmGuFpp7zoe9Q2mFjfy46E2LY3sqZfwEJr8DEGxBu/GzI0X6E/Lvg3pAUGRN5xF5KlGpeeG5/fLYDhVNgS3NANZ5kpDkEumLb0mVaSQRl6TK5JY867Zo1k5MalVxYaqPAov3o7j0O+CM6/XiITX86LlBuJ6Ad609eMG+BjGSs/NgSzu1CdQiTX/GuDlWRs8EpacMaA6vdYk/XmyM7kXNMrjGOk1TXMbWDkIuxVDEsSUI2/BUGE9k6+1TZ4GzpH/OBrQGJVpwPOwOKC7DdeVux8coluP1pUxsQgsvcTpB45DJzjnhZgpQHF4LnfM+tUbcq8bOA7O0uEAEC6cImP9KC/wQ0/wSi9/dLoz8IGYD4VNwbkpnxF0iz4k7PrpW4KJdVU2UtRk7AUY9WvljFAyBpCL+eesBElD3GSYLpenOMXDQFqkj8B1oFKqK+DzY63VXSTkdn6jNtaCxLmMhxyqJcykUzhp/kT7tjLW0S/c4VvLyOXi/CL1dKCiTgYpGgJJwsH3+obY0jD+klqyN+QOifieGgpFPWHjtyVlyZjAtAU3Tjn9/Dl7FWtR7o1aLA6c8KtKCnremwySyie4F2ly1r9dpscMaZoBl/Ms5WeOmuKuqV78MLu5I4EiVV5PCiNvhQs54mBclQs+Z5ngpZCH8PVhtns2zUUSsnzktZAzuVWynJWmZHnpey7zTcX9LIumHXJ6QIZ+N4QCS/LmaNGEQ2m4i16ISUbg0gJwaiWHH14L41tz8OdMZ5GDedMZstmgZcjSGYQ8NjaIk0NHv2T4brhd6eiYABuGL2TJUJSta6FaOxmDm/Ew/VkYDPdZZFq9jbCwOgBPO3E7V/T4DDYfTr7WL/2RG1y2XG8KPQxSKgEqHM4/BwZvuyos7uGLkYR2vih8XVZc8f6fcQqw7Z5NonhIxwC5guZinX/jjhNFnasD0u0jl5SEEd3PX+dj6AIf8rm4uhcRSnx1MHch+y9cJRrCP3JXajwuHXDyfVO61Udg3gmnPYmD2hwxkTlL1MN8DfOL0H6plOS8RrVkwhnaGCkwd3BVPsIqTKFR+i7t2Onn9JZvMWxRiuf6xYOGmVoNMfsbTK3/Wg89MqBMbin96dscxbtxx2iCuGGRAevWl8oXaNns1BhuCMDpk07jepo9542q7EHeW3EVz41bJA+04PLAw7xSb0qdyPmDFsVKLjBu6QFyA5fOM+fQ09Oc4HMCurjODwqSi5wwGAyeFGKyb8TpVpWA1xkSCtaFrte3pz5e5FrDI5bsUVy74cvId6RJOS9HcfDR9y7r3yqyA85B4JzDl5FngxJlCG+Km97L/BwGk4hoBvKUH0NLDj/CdabAufyCUxzaopX7vC5kL18KNi3JWbEDOu2O0mbJLuslA7/ByMudIMn14uYBzjsMOt0NeTLljklMFx+lNbtNoYTR88mjc9GFKH1Jd5MsmiUboufMoZXKiLnoZXkRZMPH8iJQHMUJseqTJwtlz2fwgiNzGpu3UASe1bnBCQiNAELn0zBi8txkoizFTFWTfm6mCKozv0hGCbjc7HtVdnKkWNYcoKXn6dgSROHnnwssywM3OWDa9cpRXOwgctxiSx9qhfNuORjWO+Z6jrebOi5WK6k6pzsVnbdKMispuFXRzXlFz6tsgSM3cyT1JZXUi6RzvkBUX1JRpdB5Wb2o6M1ztJF2u1hWyXzxdwrry/cIq2xe7iCrL3eQVTY5Xpu7BeRW7iugEQHvvW7pYm7lYJYSQsbplvnQD8lWg3t60iR/2Z2Wd8UgwP2d40nmFWmhm/yJqifT8gmwi6moPtkjHQAtep7aDiZ47kMcLOe0ccl5yHxlSsedVP3czlkJxRuzqrcUFXdULePJnI1YpWz8vQDVJ4TcSlcv+543qNLVxD7agxjKLQ9sud4gtr9gF4PmbbTol4wqzM2Ol9/1ejYoDj8kmt1FXQraG3j3QpZOcXP33iyM9PM8KQPiunaOXNY1AK+BcHtA9+CWXfb0fLp8xgKiTX4jdJmiLUFdVruNx4LK61+h1EdzyMXTbErH2RTJLbw2izsYq7b6za3HI2FjaUWayyqyNa8i/uhOFdlYXpGKycw8itv3gcsP95t6KXcqv/EjuaRhOiTvl/y4Hw7hCm1Oh3/hbF6d41ABujCOSwebc4V95qd7fmRpVX3ZTF4Vx9WO7Sjyp95DeoHLTWFOrGoVxSIBVg5glA6spQNV70beLru258cdV1s8XSh/0GjF4lc6eMGAki8VcOlwcR6UftwsHs9UPkLv9ofolY7RKx6CVz42r5ROSYj51WLzD8Yrn4tELpSg9zYw549nTYCW4JKIh7mLlkBzmNfldsamG4vusYp07hYeybHHtXlQ2e6dhWBDMuJIZV4TW4bmDefC5iJWf4Snd2wUe86leYXqrSbVwBgc9wZkM3BtSlV6Luzi3UYVHJu7j4KHxFqlPfOa3NJqtxrfXTZ8Pa/OkxgLJEIaX3FbNh4s2huWbvIqNIKF+pEHmacceZg5C5AfcJPOB+gWSseYY8rTQakvfkuNn1frBG0+OGKf+LrL+bXLJbDKzS8CDspjE4CuZjqdKZF1XuCJksomJw3ceMNf5+JfuHi7BJ0Mrmxoi2jOerGStAiusPzd8Ub5g3XKRRf0XaoCLHaXeIdww+sD9QB/HZWg9f3DtIKN9fzhKpE4/qJWzFuylMqyfIY/2+P7jV0WwMVED8ufaBxXcZz+w6qPCH2z+eCmQaKwuO+TEOBDEMRvA9erN1r9IIqht9kbRa1kACo5kREeNx+1IXL2x/HWo3Ycel7kgAvYCCejjb4XeluPcIG7QFZYPV7rBQMXb/M4GQHmta1HhE9bj8jEkoCRw+M1p+8551CHtco8J3FwejrArG2SqYienPZxYne70Ate2/p5EG/mk2ujICaJta0z+6pFmCAA8QBRQIN99FEGmICww+Pryrqgq405iIX//q//JbZE2RD+3/8VW7oqHP33f/2fDakFmf77v/43/D0WRsHo2guDh5IlLyk8SU7+MG7la0ygvSv44nruWjEN94uDQronDioYKMnCdEjEVaAsLRHuSaqWXGbulo21rQ+Jp6eK0Wq1ErorlYJoDBM5NIOB75Am0Q6c2Is3IshjD9e20quzaLMiuknfUDU306GRHrkuYKHqblKwFtCwHwSj5HoNhiIes8EHtLqFS0XqtdgbjjFsQTxeGALDIEDEjSdZKEtvR3i1/+5ti3Sk64iwxfaH8/ho3WuNgs0AbJglvV9EKLa3VtXdGJTc7GINtBlLGmNSl0SMhSqtLZDLWRSA/nxbw7WRaw+FtV06/JYesAO9Bxw0hP6yYJOFAI2W8AID2Db9jku66K0IZMBxbV1Yy92FgBjPZpdexxwc7BrNnet3clM9FZWpolztdC1N7kbNwYEy7Eyuopdd633383n72fji1dQ6aH8wLPuLHVnnA1Wcyk/85wfqmyB42v46uOh3Tked6YERvPrqNfU9833HtHa/Xuvai+iiuW+9fzXVOrq5qz/b9p22+vplp3P59nDUNfqDy8u2/fmV0rk83A322tv7L8WmFr5+1rl+8v6t0RxdG5Nmd8f+2FFco31mfH0zla3OM//J1JB2t0Pr08F41h6/icOO/N76tNvc/vx8u/lOdE47nma+ubaGb7f95uug/3Ua9p/L18bF+2fDZvfswu2Az3xyrb5xvnxqz3abrzr6dPLkoPn5XLlsO2qsdNTgk9VVe971Zds7O/w6vY7U17vmrDN5Z+04wcvO9Wx4eqC/MJ1PTeu1edDpa+9HBqjEu3dNSZpeTr2zYLRrdfrqfnv7/fnZVHv57EO3+XZn+Kn96sK1O3bvsL/btr6ef2lPnw7dzkj9enGghkYcNfc+PX3eEZvvx3tyvxnvN1+8Gp91jF1NDOXt9st37aej3s50+GnbP2geRp/05uXp87OO8nU2NoznU+lNu+e8eTKdyf7ba+tS/fi+qXVktfPxYty/bn/cU3ea8vO4OzXGsnStfnTPL5rnerwz1T59CIx2W3522bS78tm0v30xOGsbL3aet5/vO82Oru9qhnG+e7jftoKp3+n5zes9fTC+dNrh5UjunMXadqjtxcpp+2zSN6btF8OrazV4v6O2g+6n9514b/vdWfugu/upeTYZa1Ntvx0cXHWHzVkz7lkvO5Jx+PzMfHI285svX7z82GmfXx8Y6t7BYbM9e3otTSf9L092zclk50t7pkzeds7Pvka7ynX88VP7bfi52xlP7XNDPe+9OmxHL6y9af/1lburbvsvD9uHTrTXibcPnneb7WEgWk+Dz5+mI/f8SagZnYNhe/Reup5+0a4vzrRXX84+tWX9ydXUB5UOzdezT++bz2fmi6n54c21oe2cSV7z3eXHy2nfu/y62z54NXWavT3teqo2ry6u1Z1JILfDcbzTCcRTZU/Vnz173lbeesb044vdyZn2oelvN18cTnanV58+Pr827ed7r5tXHefZVB8p+13T0Xpvmmdfte3pwdn27m4zvvTl9sQ6jzr6q+vdXcu9GL9u7omT0ymU+sEwhq/OvPbbgwuv0w7s/m5Tc5/M2tfOTO9cvLvYOTN77tXz5rDpvuk0P8bbu8bV5ZnZTk0CuVYFLQLzuJjAXWGCqdvvnz75K/+PbMmdFQMs+bZmS/BHQkaK8KCrN/CYHRYAn46+reE+KeQfwEIqiSnIK0AJEmbCz2SXFHwW4RkcO0V2DC+zedjEMjbxoaBUI1MILm5/JiLEz8Uz20i9Eo3ITndDvNDzgI8QXcmGYZqiAhG/JMu6iUn2FXKiIoXNG0EqHbBaS0/ZRwpbomQZqqobkmlKkmWapsJAyOn7c3AmF9FjDY4sne5/UsgN2ZKi0ldVIq+6ASk6/k9eTXg08K5v+moBNknES0npReIivisW/JLoveESfjDw5luNfpDhgywCkZJFb+hWcScWliArFEKUcS8W+UUL0TG7hReliiL5IOGOLUMkX/GDoSHJWJJJcij4KCvpOyKz1BQcS9Sx0jq5A1wBbCpilKTjY1TAwl4lYJFB2/O8KT+qV4nE2TWna0keolxoJdZwSHoh2FERhByfRIwMKFymstnFhaiXyYdETZeVAc9LCpFKhehqsRTSTBcXc7y8tv82EiAELcLRxJvjm3xUyCJAeIR4v9THKHVIuE7Vot7Hfwi7ZL3kQ+F551AQGbKfT+PN6lIoAdjrIN1siEbpaOpD7CN5a4LvYu8vPEmDVNGzPMnRXUu2XFUyTNu2FbsnOZ6pWZoNnoKS9wf2OSuSnGCIozcni7pqJA3AB/Y4wkTSda2QBYfj75Xd1/+p3dyFDJmvRL9xr5jwr350BL5BB5XTDVVYF3BXj2aZhizTF1VXVU206IshaaKm6QxMMU0VTXo2hCa2FF03LUUDmwkvqmrppqmZBFxXRE03ZYOkgCdSZJUUIbVEQxPBKAsZIizKlGSVUISuy1R0E0ikRIgqIBJoiqRaBhQI0gH3BV7L0Iw8IqRI0iRVNim4YoiGLEoUkQy9L3B1JknRdA2gZEq4LGsmuMoiRYqlGjqAJZVXLMIJrKch6sBBhbzomqyYhHsEKzDIEjhEQIMpaaxc1QI90ii4peuaaWmULbImipYs0RSomAXV1nNVg/qCaKCkRDa6qBsKfUExgEtTCVskJEljDAN+iYpmFCkCF6grMvpyFIckgpSZ+DURhKxLjCJglyqySgNpogFFFpiNXANF0ijNkiWJsklZKiqWpIgq5ZEhSpKsMcIlRQHBgSfOUwRuXVUU1aI0g2AMxZLXWQr4eZ2mACtFqCbTBQU1RrZyiJBHsga4BKogoNaaxTgBTAGZiZQiy9R1GTQrEYMF7CzySIUWYhpMaoaiy5piMB5ZpgqIVSZ+A1QqqZokWqBJxSaiKVCzRCEBC3CVNTwFiABVV5hmq4TY7Or4IxQBMFgh6oIkIUjSNiHWAaIwCMNADhQYeo+sfSlAqqUUq6NDiwLtVKnu6BawVKaqbVqqbiXVETUFtFnUKfsUA8SgF9uXYaCeMp6iakP8SBs5yFU2ZIzJiAwtDRqixlivWgBXpEg0kVCMsbBqkgY2QqfgpmmBnJlqSyKoi6YkVQONVGSufRmWKakYvhKRq7IimjSvDCRZlkxTQKWg7UmM9Sh8oK+ozbIBFAtJSwBbZklUmw1gtmQqzFqIYIJIFIkMs0QQrigVGyqoiKYxdYF2reiqpVBmg7pADVjbhKhYNhgYROvYpI2iVdShCYmJgaDROlMkSYPQXqNtRIFwG4wDlRqSqpmcNuuypaimymqjygaYcqZUYBTBzjGjAvZI0S0qBtBmXTKhiKJVtEBhVGbMZMsC68pqY4pgUnVaT7DMIFLWeqBxaSCfIkXQiETJkGlRigX1BMWjTcoE86oz1UEbDfaLphigVKLKGzPgGyRQzbYMHWwf41HSA2KODSwJsJAiMjVwE5znAF6bomxRcElXoW2KtFxgigGarVN5irICSAsNFQQrQtHEMRHbAZYQvBDNDMbLlJgV1dE4GcxGyoauKJpUpALsG3xL1AWEBlY3URdQX501f9k0DaBJYBYfK8S5HQm9OlV+bAngZ3TCRrSRYPxlK7GiQJPBfC00QjBgWtHIi7qFHlViDdUEyaWmHGoj61QJDWC8pbL2DC1AAQ+gFV2zAjUgDoK4dVOD1sl4ClmBDJM5JFBm0WB6DswGw60VqqZBi9NTqwhiM2VNY94CnJmhMtcBltdSmTZj1AD94CKzVWzypkgrj+GBnOiOgrbJEqmLBM8nK4nNg74i6iDnLaAlKGD6qdRAHhCoUPJESyI2kmLVVdDWxH+BWiPtRf8lw1eLNSkwBxA4aZRHCugNNBmqGODMoDYmrTSYBShcLhozCF6g3SiUIiBYBDlJSQhipi4LNMdA+dPy4NEylCKPNBU00lITtYOGqWOzIBGLDO1OTeyXJkmKoSeBI2hCARGAKzo0OoW5ZgXMqMJsvA49bMCqJTwyVYKIFC6BLeAMPmgjhKUWpdkEaaT+COSnQnglMTNngQ1XhGPoy9MJS9JHYt2Cxpwg/Dv7dY5rG13F8jwPmq5rda2u66iSJ4P3tXq6+sf3636juUSIPZd0sUgHSyT9K/hLulfw91ggfStdXc0grmYQVzOIyYzA6uc3+Hn8+F9jZobSUZrxwIkOaeE8R/XMxJ3mOX7cbAUx4mx6gj4vm5Dg5h/ol9WMw59kxmE1GXDfoNGwNanr6bLec2S1Kym2bdhd1ZE0z9R7rmL8tkGjQMA89681KfB7xav/0lMBYgsvYf+u/x+k/cQ/Byqwwr9DN9F0oX2LPU+VREWVnZ7V62pGT+l1e7Yue2I3a/GIb6tFmxrkhcjxG40zcbGsC2Eu0EBgKpomgV/7rfua2JjTMzqfEhLdCen8JNUV0r0Tv7liH4S245HTfOvDgFzLhiuiBcceDATIETcegmo8ww2IP19MgnizfRmE53J7H/JEbYhrfIh0XFtpe6Np1O7sdt6dgO1oD/xuezyL+8FIaUlKOwI/tTGGQqCzF2Vdi/YguCS1bI1nFDueTTPyBAXHzvyRcEL5ABw86cfDwYkdnYTQPTuhPTzIyJZFg+o4ZJ38yRjveXucMrIV9yej8zpoVjCJQZscPwKv3/gNq3Ti43rykT1o22O/TYKHEzxnaepHEwiXwRbylSXje1hZQuuD3M1OkTfotYq5TwjGwlEg/znv598fcIeF2K49BuLWoasa99fpSvV1gSoSRiWxl+b499v+kBwN8vvf/6XYKikiZWsF/wi5jBvY56dfT7CDcXLpx/0TiA9HtO9KWf2ft/rJGE7wPSa/1yt5mp0SBd2nx2/B6FXBZfu73VPvBFgzjE7G0B4wqHxc8W39zvL7ncTnXTHpQZ6TaDIeB2HMC0yTqcAWy+NByt51wjscuaGJTLYnqMyYUs9BrVdxsFFxQsE8yd6GkX8k82QcwQfmzeEFqSlGf1HfDnHorfV8v/Nmdz95Q56jGcUBG8+lOv871hUBTqLQabveGBwQEXRU0g81UQ/oxoXUTtp+5AlFX1png4qNB8XvDxfUX7i0IyEpG9wvFPNq+7MwFVs6BLTARIEOreVTjJbYEnZ9VwDXIgw9e/RQ+PnvV7Kxiecruwlm+umfDyrDoB/YI/I8W/Z001VVVVJlTe8qoqGbXegZyZ4nOl5lj2gV9KyCnt/NQpGlFMUwhygKVARPT+wB29EuE7OF3+qY+kcTncRmJeoyN3SCngWP7lngiaqPwrldFMH79Oz6jHELbEFUr0vreBwUnTgZuf4w6ZCdAUQ3CAYnjbvHBUujj3gyHnj1Kq96v8L+tWKRlTv9a7tTU9FwQY2pGj1FNXtdU5W6hmUpumPooqQbq1np1az0alZ6NSu9mpVezUqvZqVXs9KrWenVrPSJqbq2qNhdx3AMVenalmd6mqMbotY1dE2yV7PSq1np1az0n2lWWrVcy9NUybONrmrbmtXTlK5oG7qjarIlOqtR19Wo62qqeTXVvJpqXk01r6aaV2Pjf4qxcU20LEnyFNExPFWHOEfWtS70dlzRUlzL1ldBzyroWU01r6aaV1PNK3e6cqdL3WmvK5qOaEqm0XVVXdG6es+TuromdvGIHcNeTTWvpppXU82rqebVVPNqqnk11byaal5NNa+mmk9UXddN1+wpruKppunZtmm6Cp6xZiimanurqebVVPNqqvnPNNXcdSRHFQ3RcxxR1ZReV+nqqqZ5qidrva7k/pm7iYK8pOFJpOVJCj2LGA9dY41PNnKnEcvmqse46jGueoysp/Lpy6nbmb77+mRPH5rvVSvsXBx0vuyeh2fS+8ML2/r8VjrtTHe+nhqyF/bl5vX0TOl8tc9eHWiHL64Om+Gh/arz5vTV6Zl2/f5ctcbDw8Pp6SdpPzQuninvrUvtUzj92N219q7CgfrSck3Jm8bBrmeIovHsjXX52Xkx3X7/9vnZ9evBk/dN56P/uuMqTfP6OtwdiE05lN9NBwe7u11t2G6+Md8O7d1p+Orisiuffd2Wm/KHC6XzqS09P9OtF6eT5lW/L3WCp2cfD5T3wfuX1hNRejM9Hzfb12JwuNts+oOLvc6byy/bZ2r49PW+Jc7UQeeg9/mqq+xOD9XmWTC9nH46nBqGJDa3nzadnTdfpqe+/+7aOJvgNNerp1ed/uTJyz3d18OZ+WLvyXan96H7pKtM+6eXzb3ouffubPbybO9yP+oH1jtPetcJLw9eXkvyMzVozqyP59Nh9Nk9k0Nrd2KdXr8adeI37S9n6l64/alpfPY+TN3g65czY1fZvmg+s5u96cFoMDTE189eHVq29XbSGV48j/bEePj8i/U57jen0Uf9yZ4y6R08tbYHp/vTwJk+DdXI67+z1PMXL6cfjPbX7mVv7B82J83ZaNpz+vqu8uL63YX18r153ulGH97u6q/bwfPmpO3ud746I717+VZ6JloHoe53Xu1H5wcz64NqN/uxEnZ69lPViPo7+5HpTazLzpPDfrwrHXQOh9bIvJbeXe7t9s/ky/bb12Z09rTfuTDfzc5keXZ52nReGuOOPfowOZi58rbTtJV3VsftvGruSZ933pwbff+Z2Pncm33cVV7t26oVS292pofml93w8vGf+IKYx8svc5HvcZeLXN3Dl+9zk8uS4YIfdJcLemvTsGToQquGjKekG7nRgqq0ZaMHoiRLkoyHYVuyrkgyHpDOjSdUoV2NL/x1xxfuc6mLXCxFXg1i3K5LI3m2ZyoWWBtVVm3L6HZ1SXFUxew5Xc/WlNWVLv+je1H/8ne6gF8wVVFV2fn7lopngucOqSeXcqh4ejs9l55cjqGhbS+AmOBeiOMgVzSgy9GtIogsWZqlsjPWRV3Fy1P04mn46KNMnRUEOERTFJUiFrD0hqabKrv8QtNlQ+HJBYekGex+DBlRiqbJgWiiounslHNJxctVRImjBc+019lFDqIGtIPvLIKIpmKYksHOSpct08Bjw4sF6Yqha+x0exlIx0sKOCw6aJPMjiUXNclQTEvhQERTxiPJKYhoqaLMy0jC63dMxhcRGKBJGk8LFIK3tCQXQZgGiLJYEAsEkmP6TRU0Q+GxQC2TSsuariuWZHLkWngAi2ElWETAKfH6ApXQdZOdaC8pUD8Oi6RoJioMu4gA1bIkaQ3CBM2U2NUxkgkRjsCL0dIkWbOYSqmGVgYxdeA/O/1dhKABr2PhuIv3fhgG010TIEyLbwGqqMgGu6VAtHRdlCxOAHilkKWxs+4hQlE1RecrjXcyWHrSAnRLVjHmKoCopmbICetMBWIi2eIEYEAl8AoOAmIoKkiAV29NN9TkLgRRVkALJV5fVKi0bNHLAqByGjRYDkRSDFlR2LUeLNLkuAsMlTQ1lZFhQLkmzxcZz+lJQCwT0KocCF61I8pM62RFNSSz1NSgmYjsBgxR1UzT0DndBctlgIhkdkUE6KleUgZFBIvBLjkRsUyLb2qQETSAtQDQUrxuQS8JwMLbnhgWaOFiiVxDxmbBrJSiQNSrGLx90SVLMRPLoEP7VTkQWTXxEq5URoqq6CovRgVv0GCtEW8DUUyNVylycRRjnQKM1MptGjgnWfQ2D1ECZTd4o4qmWdc1KfEBlqXyJkiSQFt0kV32Iqm6CqFPqR2BBNiVTmgwoYaceoNNh3bErrwCUjVRM/gWIKOlkxPrrUrgEHgTJOFtTkwAIt5lIqt8Qbos63i5Dr3XRpOgc8T7AFG38AoqhgWYDb6ELwgakqaxgsDAgj/gsah47RW7EEskN53JJfUG3yHpibPRwMLLnAmCSqoSWfZJbhgi10TxbkIBe2mxm2Hwmi5VKplmvNNTtszksiwdmMCZQ9GSgefJTUsy1M80eHLBoCgauzYL3KcOaEtOGCRgscu0IICQ0HFzfAGbDv8xuwvtARvN8e8z1wBtVnZkrWc6rqNCezBtz+5JsmdIoNk9R//TzjXI3zXDJ6+mF1bTC6vphfKCtPsM3/7YBU93GA1dLXdaDUf+NsORq3HCe972IKtdy1C60CN2VNezILzrikZPlXpOF7og9oINZ/l4IQ0MklUspWCqimZC7He7PNAAcGQvXXRrR5mVFruup7l2z+2Kpmq7UB3TtT3d6EqmKjpaj9jAW9+AXQBedq1aHnjpdRp54KUn8eeBlx5LW8C87NC9AvCyw1bywEvPacgDL93fmAdeunujQMayVXt54KULfvLAS4fSC8DLwvuCbixrfMebLGoLHNw7WBm3JaEVtiMGxMC5YGqtlTY1shNxrZR1ZwBGgux/o+8tBz+QYtCnYtyVpLB9i5/8uF8vZE+R9kL7dEhjUaBngo8tB9pt7O2y12cMAuuQQLegtYMJ38EwO0WM6RAT1QdeLPiAT9yEP4+yht8aeKPTuA9fm80GxKkIRxNxR2KCGV6fDshOyyezl4A8yX3kH0MBmCcKJqHj7YL1nMvDv6P1XBOaApedvhbYkmJr9fwwSsomNYMMWWoWx94UJVHJ5GVh6/8HBlPufg==</script> <treescope-run-here><script type=\"application/octet-stream\"> const root = ( Array.from(document.getElementsByClassName( \"treescope_out_4a37361fde1f4fa3adc23627b38d60fe\")) .filter((elt) => !elt.dataset['step1']) )[0]; root.dataset['step1'] = 1; root.defns.insertContent( this.parentNode.querySelector('script[type=\"application/octet-stream\"]'), true ); this.parentNode.remove(); </script></treescope-run-here> </div>"
      ],
      "text/plain": [
       "<IPython.core.display.HTML object>"
      ]
     },
     "metadata": {},
     "output_type": "display_data"
    }
   ],
   "source": [
    "vf_model = create_mlp(input_size = architecture[0],\n",
    "num_layers = architecture[1],\n",
    "layer_width = architecture[2],\n",
    "activation = architecture[3],\n",
    "time_varying = architecture[4]\n",
    ")\n",
    "\n",
    "\n",
    "nnx.display(vf_model)"
   ]
  },
  {
   "cell_type": "code",
   "execution_count": 11,
   "id": "7ce99558",
   "metadata": {},
   "outputs": [],
   "source": [
    "optimizer = nnx.Optimizer(vf_model,optax.adam(CONFIG['training']['learning_rate']),wrt = nnx.Param)\n"
   ]
  },
  {
   "cell_type": "code",
   "execution_count": 12,
   "id": "5e87d6ad",
   "metadata": {},
   "outputs": [],
   "source": [
    "ode_solver = MidpointSolver"
   ]
  },
  {
   "cell_type": "code",
   "execution_count": 13,
   "id": "6eab83ff",
   "metadata": {},
   "outputs": [],
   "source": [
    "fm_model = FlowMatching(\n",
    "    vf_model = vf_model,\n",
    "    optimizer = optimizer,\n",
    "    ode_solver = ode_solver\n",
    ")"
   ]
  },
  {
   "cell_type": "code",
   "execution_count": 14,
   "id": "b71a61dc",
   "metadata": {},
   "outputs": [
    {
     "name": "stdout",
     "output_type": "stream",
     "text": [
      "Training config: 200 epochs, batch_size=1000, lr=0.001\n"
     ]
    }
   ],
   "source": [
    "# Training setup\n",
    "batch_size = CONFIG['training']['batch_size']\n",
    "num_epochs = CONFIG['training']['num_epochs']\n",
    "losses = []\n",
    "\n",
    "print(f\"Training config: {num_epochs} epochs, batch_size={batch_size}, lr={CONFIG['training']['learning_rate']}\")"
   ]
  },
  {
   "cell_type": "code",
   "execution_count": 15,
   "id": "9a0617e7",
   "metadata": {},
   "outputs": [],
   "source": [
    "key_train = key\n",
    "key_train, key_batch = random.split(key_train)\n",
    "source_data = inf_train_gen(CONFIG['data']['source'], key_batch, batch_size, CONFIG['data']['dim'])\n",
    "target_data = inf_train_gen(CONFIG['data']['target'], key_batch, batch_size, CONFIG['data']['dim'])\n",
    "\n",
    "# Training step\n",
    "loss, metrics = fm_model.training_step(vf_model,key_batch, source_data,target_data)"
   ]
  },
  {
   "cell_type": "code",
   "execution_count": 17,
   "id": "fdc33fdc",
   "metadata": {},
   "outputs": [
    {
     "name": "stdout",
     "output_type": "stream",
     "text": [
      "Epoch   0: Loss = 19.872227\n",
      "Epoch  50: Loss = 9.273823\n",
      "Epoch 100: Loss = 10.072942\n",
      "Epoch 150: Loss = 9.463494\n"
     ]
    }
   ],
   "source": [
    "key_train = key\n",
    "for epoch in range(num_epochs):\n",
    "    # Generate training data\n",
    "    key_train, key_batch = random.split(key_train)\n",
    "    source_data = inf_train_gen(CONFIG['data']['source'], key_batch, batch_size, CONFIG['data']['dim'])\n",
    "    target_data = inf_train_gen(CONFIG['data']['target'], key_batch, batch_size, CONFIG['data']['dim'])\n",
    "    \n",
    "    # Training step\n",
    "    loss, metrics = fm_model.training_step(vf_model,key_batch, source_data,target_data)\n",
    "    \n",
    "    \n",
    "    losses.append(float(loss))\n",
    "    \n",
    "    if epoch % CONFIG['training']['print_every'] == 0:\n",
    "        print(f\"Epoch {epoch:3d}: Loss = {loss:.6f}\")"
   ]
  },
  {
   "cell_type": "code",
   "execution_count": 18,
   "id": "7bf1bfa9",
   "metadata": {},
   "outputs": [
    {
     "data": {
      "image/png": "[encoded data removed]",
      "text/plain": [
       "<Figure size 800x500 with 1 Axes>"
      ]
     },
     "metadata": {},
     "output_type": "display_data"
    }
   ],
   "source": [
    "plt.figure(figsize=(8, 5))\n",
    "plt.plot(losses)\n",
    "plt.xlabel('Epoch')\n",
    "plt.ylabel('Loss')\n",
    "plt.title('Flow Matching Loss Convergence')\n",
    "plt.grid(True)\n",
    "plt.show()"
   ]
  },
  {
   "cell_type": "code",
   "execution_count": null,
   "id": "64524b94",
   "metadata": {},
   "outputs": [],
   "source": [
    "key_train, key_batch = random.split(key_train)\n",
    "source_data = inf_train_gen(CONFIG['data']['source'], key_batch, batch_size, CONFIG['data']['dim'])\n",
    "\n",
    "generated = flow"
   ]
  },
  {
   "cell_type": "code",
   "execution_count": null,
   "id": "e1f70d94",
   "metadata": {},
   "outputs": [],
   "source": []
  },
  {
   "cell_type": "code",
   "execution_count": null,
   "id": "b3454279",
   "metadata": {},
   "outputs": [],
   "source": []
  }
 ],
 "metadata": {
  "kernelspec": {
   "display_name": "Python 3",
   "language": "python",
   "name": "python3"
  },
  "language_info": {
   "codemirror_mode": {
    "name": "ipython",
    "version": 3
   },
   "file_extension": ".py",
   "mimetype": "text/x-python",
   "name": "python",
   "nbconvert_exporter": "python",
   "pygments_lexer": "ipython3",
   "version": "3.13.5"
  }
 },
 "nbformat": 4,
 "nbformat_minor": 5
}
