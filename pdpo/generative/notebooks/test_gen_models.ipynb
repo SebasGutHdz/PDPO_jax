{
 "cells": [
  {
   "cell_type": "code",
   "execution_count": null,
   "id": "f40237ed",
   "metadata": {},
   "outputs": [],
   "source": [
    "import os\n",
    "os.environ[\"CUDA_DEVICE_ORDER\"]=\"PCI_BUS_ID\"\n",
    "os.environ[\"CUDA_VISIBLE_DEVICES\"]=\"2\"\n",
    "os.environ['XLA_PYTHON_CLIENT_PREALLOCATE'] = 'false'\n",
    "\n",
    "from pathlib import Path\n",
    "root_path = Path.cwd().parent.parent.parent.absolute()\n",
    "import sys\n",
    "current_dir = Path.cwd()\n",
    "repo_root = current_dir.parent.parent.parent  # Go up 3 levels\n",
    "pdpo_path = str(repo_root.absolute())\n",
    "# Add repository root to path\n",
    "sys.path.insert(0, pdpo_path)\n",
    "\n",
    "\n"
   ]
  },
  {
   "cell_type": "code",
   "execution_count": null,
   "id": "8429ddc0",
   "metadata": {},
   "outputs": [],
   "source": [
    "import jax\n",
    "import jax.numpy as jnp\n",
    "import jax.random as jrn\n",
    "from jax import jit, vmap\n",
    "from flax import nnx\n",
    "import optax\n",
    "import numpy as np\n",
    "import matplotlib.pyplot as plt\n",
    "import seaborn\n",
    "from typing import Dict, Tuple, Optional\n",
    "import time"
   ]
  },
  {
   "cell_type": "code",
   "execution_count": null,
   "id": "9d95784a",
   "metadata": {},
   "outputs": [],
   "source": [
    "# Set plot style\n",
    "plt.style.use('default')\n",
    "\n",
    "# JAX Configuration\n",
    "print(\"JAX version:\", jax.__version__)\n",
    "print(\"Available devices:\", jax.devices())\n",
    "\n",
    "device = jax.devices()[0]\n",
    "jax.default_device(device)\n",
    "\n",
    "\n"
   ]
  },
  {
   "cell_type": "code",
   "execution_count": null,
   "id": "c9ce99f7",
   "metadata": {},
   "outputs": [],
   "source": [
    "# Set random seed for reproducibility\n",
    "SEED = 1\n",
    "key = jrn.PRNGKey(SEED)\n",
    "print(f\"Random seed set to: {SEED}\")"
   ]
  },
  {
   "cell_type": "code",
   "execution_count": null,
   "id": "9d88ab9e",
   "metadata": {},
   "outputs": [],
   "source": [
    "from pdpo.generative.models.matching_methods import FlowMatching,StochasticInterpolant\n",
    "from pdpo.models.nn import create_mlp,get_activation_fn,create_mlp_time_embedding\n",
    "from pdpo.data.toy_datasets import inf_train_gen\n",
    "from pdpo.core.types import ModelParams, SampleArray, TimeArray\n",
    "from pdpo.ode.solvers import MidpointSolver\n"
   ]
  },
  {
   "cell_type": "code",
   "execution_count": null,
   "id": "7fe2b14c",
   "metadata": {},
   "outputs": [],
   "source": [
    "# Test configuration\n",
    "CONFIG = {\n",
    "    'model': {\n",
    "        'input_dim': 2,\n",
    "        'hidden_dim': 128,\n",
    "        'num_layers': 4,\n",
    "        'activation': 'relu',\n",
    "        'time_varying': True\n",
    "    },\n",
    "    'training': {\n",
    "        'batch_size': 1000,\n",
    "        'learning_rate': 1e-3,\n",
    "        'num_epochs': 1000,\n",
    "        'print_every': 100\n",
    "    },\n",
    "    'data': {\n",
    "        'source': 'std_gaussian',\n",
    "        'target': '8gaussians',\n",
    "        'dim': 2\n",
    "    }\n",
    "}"
   ]
  },
  {
   "cell_type": "code",
   "execution_count": null,
   "id": "86556604",
   "metadata": {},
   "outputs": [],
   "source": [
    "print(\"Configuration loaded:\")\n",
    "for section, params in CONFIG.items():\n",
    "    print(f\"  {section}: {params}\")\n",
    "\n",
    "print(\"\\n\" + \"=\"*50)\n",
    "print(\"SETUP COMPLETE - Ready for Flow Matching tests\")\n",
    "print(\"=\"*50)"
   ]
  },
  {
   "cell_type": "code",
   "execution_count": null,
   "id": "6a6aea34",
   "metadata": {},
   "outputs": [],
   "source": [
    "architecture = [\n",
    "    CONFIG['model']['input_dim'],      # 2 - input dimension  \n",
    "    CONFIG['model']['num_layers'],     # 4 - number of layers\n",
    "    CONFIG['model']['hidden_dim'],     # 64 - hidden layer width\n",
    "    CONFIG['model']['activation'],      # 'relu' - activation function\n",
    "    CONFIG['model']['time_varying']\n",
    "]\n",
    "\n",
    "print(f\"MLP Architecture: {architecture}\")\n",
    "print(f\"  - Input dimension: {architecture[0]}\")\n",
    "print(f\"  - Hidden width: {architecture[1]}\")  \n",
    "print(f\"  - Number of layers: {architecture[2]}\")\n",
    "print(f\"  - Activation: {architecture[3]}\")"
   ]
  },
  {
   "cell_type": "code",
   "execution_count": null,
   "id": "d7886f4e",
   "metadata": {},
   "outputs": [],
   "source": [
    "vf_model = create_mlp_time_embedding(input_size = architecture[0],\n",
    "num_layers = architecture[1],\n",
    "layer_width = architecture[2],\n",
    "activation = architecture[3]\n",
    "# time_varying = architecture[4] # only for mlp\n",
    ")\n",
    "\n",
    "\n",
    "nnx.display(vf_model)"
   ]
  },
  {
   "cell_type": "code",
   "execution_count": null,
   "id": "7ce99558",
   "metadata": {},
   "outputs": [],
   "source": [
    "optimizer = nnx.Optimizer(vf_model,optax.adam(CONFIG['training']['learning_rate']),wrt = nnx.Param)\n",
    "scheduler = nnx"
   ]
  },
  {
   "cell_type": "code",
   "execution_count": null,
   "id": "5e87d6ad",
   "metadata": {},
   "outputs": [],
   "source": [
    "ode_solver = MidpointSolver"
   ]
  },
  {
   "cell_type": "code",
   "execution_count": null,
   "id": "6eab83ff",
   "metadata": {},
   "outputs": [],
   "source": [
    "# model = FlowMatching(\n",
    "#     vf_model = vf_model,\n",
    "#     optimizer = optimizer,\n",
    "#     ode_solver = ode_solver\n",
    "# )\n",
    "\n",
    "model = StochasticInterpolant(\n",
    "    vf_model = vf_model,\n",
    "    optimizer = optimizer,\n",
    "    ode_solver = ode_solver\n",
    ")"
   ]
  },
  {
   "cell_type": "code",
   "execution_count": null,
   "id": "b71a61dc",
   "metadata": {},
   "outputs": [],
   "source": [
    "# Training setup\n",
    "batch_size = CONFIG['training']['batch_size']\n",
    "num_epochs = CONFIG['training']['num_epochs']\n",
    "losses = []\n",
    "\n",
    "print(f\"Training config: {num_epochs} epochs, batch_size={batch_size}, lr={CONFIG['training']['learning_rate']}\")"
   ]
  },
  {
   "cell_type": "code",
   "execution_count": null,
   "id": "fdc33fdc",
   "metadata": {},
   "outputs": [],
   "source": [
    "key_train = key\n",
    "for epoch in range(num_epochs):\n",
    "    # Generate training data\n",
    "    key_train, key_batch = jrn.split(key_train)\n",
    "    source_data = inf_train_gen(CONFIG['data']['source'], key_batch, batch_size, CONFIG['data']['dim'])\n",
    "    target_data = inf_train_gen(CONFIG['data']['target'], key_batch, batch_size, CONFIG['data']['dim'])\n",
    "    \n",
    "    # Training step\n",
    "    loss, metrics = model.training_step(key_batch, target_data,source_data)\n",
    "    \n",
    "    \n",
    "    losses.append(float(loss))\n",
    "    \n",
    "    if epoch % CONFIG['training']['print_every'] == 0:\n",
    "        print(f\"Epoch {epoch:3d}: Loss = {loss:.6f}\")\n",
    "        generated = model.sample_trajectory(\n",
    "            x0 = source_data,\n",
    "            ode_solver = ode_solver\n",
    "        )\n",
    "        fig = plt.figure(figsize=(10,5))\n",
    "        plt.scatter(source_data[:,0],source_data[:,1],s= 1, label = 'source')\n",
    "        plt.scatter(target_data[:,0],target_data[:,1],s = 1, label = 'target')\n",
    "        plt.scatter(generated[:,0],generated[:,1],s = 1, label = 'generate')\n",
    "        plt.legend()\n",
    "        plt.show()\n",
    "        "
   ]
  },
  {
   "cell_type": "code",
   "execution_count": null,
   "id": "7bf1bfa9",
   "metadata": {},
   "outputs": [],
   "source": [
    "plt.figure(figsize=(8, 5))\n",
    "plt.plot(losses)\n",
    "plt.xlabel('Epoch')\n",
    "plt.ylabel('Loss')\n",
    "plt.title(f'{model.method_name} Loss Convergence')\n",
    "plt.grid(True)\n",
    "plt.show()"
   ]
  },
  {
   "cell_type": "code",
   "execution_count": null,
   "id": "b3454279",
   "metadata": {},
   "outputs": [],
   "source": [
    "generated = model.sample_trajectory(\n",
    "x0 = source_data,\n",
    "ode_solver = ode_solver\n",
    ")\n",
    "fig = plt.figure(figsize=(10,5))\n",
    "plt.scatter(source_data[:,0],source_data[:,1],s= 1, label = 'source')\n",
    "plt.scatter(target_data[:,0],target_data[:,1],s = 1, label = 'target')\n",
    "plt.scatter(generated[:,0],generated[:,1],s = 1, label = 'generate')\n",
    "plt.legend()\n",
    "plt.show()"
   ]
  },
  {
   "cell_type": "code",
   "execution_count": null,
   "id": "88007b39",
   "metadata": {},
   "outputs": [],
   "source": []
  }
 ],
 "metadata": {
  "kernelspec": {
   "display_name": "PDPO_jax",
   "language": "python",
   "name": "python3"
  },
  "language_info": {
   "codemirror_mode": {
    "name": "ipython",
    "version": 3
   },
   "file_extension": ".py",
   "mimetype": "text/x-python",
   "name": "python",
   "nbconvert_exporter": "python",
   "pygments_lexer": "ipython3",
   "version": "3.13.5"
  }
 },
 "nbformat": 4,
 "nbformat_minor": 5
}
